{
    "cells": [
        {
            "cell_type": "code",
            "execution_count": 1,
            "source": [
                "import ZAIProject as ai\r\n",
                "import tensorflow as tf"
            ],
            "outputs": [],
            "metadata": {}
        },
        {
            "cell_type": "code",
            "execution_count": 2,
            "source": [
                "samples = [\r\n",
                "  \"1+1=2\",\r\n",
                "  \"2+1=3\",\r\n",
                "  \"3+3=6\",\r\n",
                "  \"4+2=6\",\r\n",
                "  \"5+3=8\",\r\n",
                "  \"6+6=12\",\r\n",
                "  \"7+3=10\",\r\n",
                "  \"8+4=12\",\r\n",
                "  \"9+1=10\"\r\n",
                "]\r\n",
                "print(samples)"
            ],
            "outputs": [
                {
                    "output_type": "stream",
                    "name": "stdout",
                    "text": [
                        "['1+1=2', '2+1=3', '3+3=6', '4+2=6', '5+3=8', '6+6=12', '7+3=10', '8+4=12', '9+1=10']\n"
                    ]
                }
            ],
            "metadata": {}
        },
        {
            "cell_type": "code",
            "execution_count": 3,
            "source": [
                "project = ai.project.Project()\r\n",
                "\r\n",
                "project.fit.input.add().addAll([\r\n",
                "    ai.processor.RegExp(r\"(\\d+)\\+(\\d+)\"),\r\n",
                "    ai.processor.ForEach(ai.processor.StrToInt())\r\n",
                "])\r\n",
                "\r\n",
                "project.fit.output.add().addAll([\r\n",
                "    ai.processor.RegExp(r\"\\=(\\d+)\"),\r\n",
                "    ai.processor.ForEach(ai.processor.StrToInt())\r\n",
                "])\r\n",
                "\r\n",
                "project.predict.baseFit()"
            ],
            "outputs": [
                {
                    "output_type": "execute_result",
                    "data": {
                        "text/plain": [
                            "<ZAIProject.base._projectPredict.ProjectPredict at 0x2033cb5ef70>"
                        ]
                    },
                    "metadata": {},
                    "execution_count": 3
                }
            ],
            "metadata": {}
        },
        {
            "cell_type": "code",
            "execution_count": 4,
            "source": [
                "project.scale(samples, verbose=True)"
            ],
            "outputs": [
                {
                    "output_type": "stream",
                    "name": "stdout",
                    "text": [
                        "1/9 Scaling...\n",
                        "2/9 Scaling...\n",
                        "3/9 Scaling...\n",
                        "4/9 Scaling...\n",
                        "5/9 Scaling...\n",
                        "6/9 Scaling...\n",
                        "7/9 Scaling...\n",
                        "8/9 Scaling...\n",
                        "9/9 Scaling...\n"
                    ]
                }
            ],
            "metadata": {}
        },
        {
            "cell_type": "code",
            "execution_count": 5,
            "source": [
                "tsModel = tf.keras.Sequential([\r\n",
                "    tf.keras.layers.InputLayer(input_shape=[2]),\r\n",
                "    tf.keras.layers.Dense(10),\r\n",
                "    tf.keras.layers.Dense(1)\r\n",
                "])\r\n",
                "tsModel.compile(optimizer=tf.optimizers.Adam(0.001), loss='mse')\r\n",
                "\r\n",
                "model = ai.model.TensorModel(project, tsModel)"
            ],
            "outputs": [],
            "metadata": {}
        },
        {
            "cell_type": "code",
            "execution_count": null,
            "source": [
                "model.fit(samples, epochs=10000, verbose=0)"
            ],
            "outputs": [],
            "metadata": {}
        },
        {
            "cell_type": "code",
            "execution_count": 7,
            "source": [
                "model.evaluate(samples, table=True)"
            ],
            "outputs": [
                {
                    "output_type": "stream",
                    "name": "stdout",
                    "text": [
                        "|1+1=2| ['2'] -> ['2'] | OK\n",
                        "|2+1=3| ['3'] -> ['3'] | OK\n",
                        "|3+3=6| ['6'] -> ['6'] | OK\n",
                        "|4+2=6| ['6'] -> ['6'] | OK\n",
                        "|5+3=8| ['8'] -> ['8'] | OK\n",
                        "|6+6=12| ['12'] -> ['12'] | OK\n",
                        "|7+3=10| ['10'] -> ['10'] | OK\n",
                        "|8+4=12| ['12'] -> ['12'] | OK\n",
                        "|9+1=10| ['10'] -> ['10'] | OK\n",
                        "Accuracy: 9/9\n",
                        "1/1 [==============================] - 0s 999us/step - loss: 0.0000e+00\n"
                    ]
                },
                {
                    "output_type": "execute_result",
                    "data": {
                        "text/plain": [
                            "0.0"
                        ]
                    },
                    "metadata": {},
                    "execution_count": 7
                }
            ],
            "metadata": {}
        },
        {
            "cell_type": "code",
            "execution_count": 8,
            "source": [
                "tests = [\r\n",
                "  \"11+1=12\",\r\n",
                "  \"8+8=16\",\r\n",
                "  \"2+2=4\"\r\n",
                "]"
            ],
            "outputs": [],
            "metadata": {}
        },
        {
            "cell_type": "code",
            "execution_count": 12,
            "source": [
                "model.evaluate(tests, verbose=True)"
            ],
            "outputs": [
                {
                    "output_type": "stream",
                    "name": "stdout",
                    "text": [
                        "|11+1=12| ['12'] -> ['12'] | OK\n",
                        "|8+8=16| ['16'] -> ['16'] | OK\n",
                        "|2+2=4| ['4'] -> ['3'] | Fail\n",
                        "Accuracy: 2/3\n",
                        "1/1 [==============================] - 0s 964us/step - loss: 0.0000e+00\n"
                    ]
                },
                {
                    "output_type": "execute_result",
                    "data": {
                        "text/plain": [
                            "0.0"
                        ]
                    },
                    "metadata": {},
                    "execution_count": 12
                }
            ],
            "metadata": {}
        },
        {
            "cell_type": "code",
            "execution_count": null,
            "source": [],
            "outputs": [],
            "metadata": {}
        }
    ],
    "metadata": {
        "orig_nbformat": 4,
        "language_info": {
            "name": "python",
            "version": "3.8.10",
            "mimetype": "text/x-python",
            "codemirror_mode": {
                "name": "ipython",
                "version": 3
            },
            "pygments_lexer": "ipython3",
            "nbconvert_exporter": "python",
            "file_extension": ".py"
        },
        "kernelspec": {
            "name": "python3",
            "display_name": "Python 3.8.10 64-bit ('tf-cpu': conda)"
        },
        "interpreter": {
            "hash": "442ad6f432bb2ca5e5595b88bdc63e5e2d39271dc1d5a6d51d37cf4f1b840232"
        }
    },
    "nbformat": 4,
    "nbformat_minor": 2
}