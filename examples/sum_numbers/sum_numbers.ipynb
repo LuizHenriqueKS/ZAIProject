{
    "cells": [
        {
            "cell_type": "code",
            "execution_count": 1,
            "source": [
                "import ZAIProject as ai\r\n",
                "import tensorflow as tf"
            ],
            "outputs": [],
            "metadata": {}
        },
        {
            "cell_type": "code",
            "execution_count": 5,
            "source": [
                "samples = [\r\n",
                "  \"1+1=2\",\r\n",
                "  \"2+1=3\",\r\n",
                "  \"3+3=6\",\r\n",
                "  \"4+2=6\",\r\n",
                "  \"5+3=8\",\r\n",
                "  \"6+6=12\",\r\n",
                "  \"7+3=10\",\r\n",
                "  \"8+4=12\",\r\n",
                "  \"9+1=10\"\r\n",
                "]\r\n",
                "print(samples)"
            ],
            "outputs": [
                {
                    "output_type": "stream",
                    "name": "stdout",
                    "text": [
                        "['1+1=2', '2+1=3', '3+3=6', '4+2=6', '5+3=8', '6+6=12', '7+3=10', '8+4=12', '9+1=10']\n"
                    ]
                }
            ],
            "metadata": {}
        },
        {
            "cell_type": "code",
            "execution_count": 2,
            "source": [
                "project = ai.project.Project()\r\n",
                "\r\n",
                "project.fit.input.add().addAll([\r\n",
                "    ai.processor.RegExp(r\"(\\d+)\\+(\\d+)\"),\r\n",
                "    ai.processor.ForEach(ai.processor.StrToInt())\r\n",
                "])\r\n",
                "\r\n",
                "project.fit.output.add().addAll([\r\n",
                "    ai.processor.RegExp(r\"\\=(\\d+)\"),\r\n",
                "    ai.processor.ForEach(ai.processor.StrToInt())\r\n",
                "])\r\n",
                "\r\n",
                "project.predict.baseFit()"
            ],
            "outputs": [
                {
                    "output_type": "error",
                    "ename": "AttributeError",
                    "evalue": "'ProjectPredict' object has no attribute 'baseFit'",
                    "traceback": [
                        "\u001b[1;31m---------------------------------------------------------------------------\u001b[0m",
                        "\u001b[1;31mAttributeError\u001b[0m                            Traceback (most recent call last)",
                        "\u001b[1;32m<ipython-input-2-ecc63f7d026c>\u001b[0m in \u001b[0;36m<module>\u001b[1;34m\u001b[0m\n\u001b[0;32m     11\u001b[0m ])\n\u001b[0;32m     12\u001b[0m \u001b[1;33m\u001b[0m\u001b[0m\n\u001b[1;32m---> 13\u001b[1;33m \u001b[0mproject\u001b[0m\u001b[1;33m.\u001b[0m\u001b[0mpredict\u001b[0m\u001b[1;33m.\u001b[0m\u001b[0mbaseFit\u001b[0m\u001b[1;33m(\u001b[0m\u001b[1;33m)\u001b[0m\u001b[1;33m\u001b[0m\u001b[1;33m\u001b[0m\u001b[0m\n\u001b[0m",
                        "\u001b[1;31mAttributeError\u001b[0m: 'ProjectPredict' object has no attribute 'baseFit'"
                    ]
                }
            ],
            "metadata": {}
        },
        {
            "cell_type": "code",
            "execution_count": null,
            "source": [
                "project.scale(samples)"
            ],
            "outputs": [],
            "metadata": {}
        },
        {
            "cell_type": "code",
            "execution_count": null,
            "source": [
                "tsModel = tf.keras.Sequential([\r\n",
                "  tf.keras.layers.InputLayers(input_shape=[2]),\r\n",
                "  tf.keras.layers.Dense(10),\r\n",
                "  tf.keras.layers.Dense(1)\r\n",
                "])\r\n",
                "\r\n",
                "model = project.createModel(ai.model.Tensorflow(tsModel))"
            ],
            "outputs": [],
            "metadata": {}
        },
        {
            "cell_type": "code",
            "execution_count": null,
            "source": [
                "model.fit(samples, epochs=1000, tillAccuracy=1)"
            ],
            "outputs": [],
            "metadata": {}
        },
        {
            "cell_type": "code",
            "execution_count": null,
            "source": [
                "model.evaluate(samples)"
            ],
            "outputs": [],
            "metadata": {}
        },
        {
            "cell_type": "code",
            "execution_count": null,
            "source": [
                "tests = [\r\n",
                "  \"11+1=12\"\r\n",
                "  \"8+8=16\",\r\n",
                "  \"2+2=4\"\r\n",
                "]"
            ],
            "outputs": [],
            "metadata": {}
        },
        {
            "cell_type": "code",
            "execution_count": null,
            "source": [
                "model.evaluate(tests)"
            ],
            "outputs": [],
            "metadata": {}
        }
    ],
    "metadata": {
        "orig_nbformat": 4,
        "language_info": {
            "name": "python",
            "version": "3.8.10",
            "mimetype": "text/x-python",
            "codemirror_mode": {
                "name": "ipython",
                "version": 3
            },
            "pygments_lexer": "ipython3",
            "nbconvert_exporter": "python",
            "file_extension": ".py"
        },
        "kernelspec": {
            "name": "python3",
            "display_name": "Python 3.8.10 64-bit ('tf-cpu': conda)"
        },
        "interpreter": {
            "hash": "442ad6f432bb2ca5e5595b88bdc63e5e2d39271dc1d5a6d51d37cf4f1b840232"
        }
    },
    "nbformat": 4,
    "nbformat_minor": 2
}